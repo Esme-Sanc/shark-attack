{
 "cells": [
  {
   "cell_type": "code",
   "execution_count": 1,
   "metadata": {},
   "outputs": [],
   "source": [
    "### 1. Importación de Librerías y Carga de Datos\n",
    "from Function import read_data\n",
    "\n",
    "ruta_archivo = 'https://www.sharkattackfile.net/spreadsheets/GSAF5.xls'\n",
    "df = read_data(ruta_archivo)"
   ]
  },
  {
   "cell_type": "code",
   "execution_count": 5,
   "metadata": {},
   "outputs": [],
   "source": [
    "# Para analizar la cantidad y el porcentaje de valores faltantes (NaN) en cada columna de un DataFrame \n",
    "import pandas as pd\n",
    "\n",
    "df_nan = df.isna().sum()\n",
    "percent = df_nan * 100 / len(df)\n",
    "missing_values = pd.DataFrame({'Missing values': df_nan, 'Missing %': percent})"
   ]
  }
 ],
 "metadata": {
  "kernelspec": {
   "display_name": "base",
   "language": "python",
   "name": "python3"
  },
  "language_info": {
   "codemirror_mode": {
    "name": "ipython",
    "version": 3
   },
   "file_extension": ".py",
   "mimetype": "text/x-python",
   "name": "python",
   "nbconvert_exporter": "python",
   "pygments_lexer": "ipython3",
   "version": "3.12.4"
  }
 },
 "nbformat": 4,
 "nbformat_minor": 2
}
