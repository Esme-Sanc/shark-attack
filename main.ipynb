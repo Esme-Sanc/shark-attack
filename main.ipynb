{
 "cells": [
  {
   "cell_type": "markdown",
   "id": "1933ec75",
   "metadata": {},
   "source": [
    "### 1. Importación de Librerías y Carga de Datos"
   ]
  },
  {
   "cell_type": "code",
   "execution_count": 1,
   "id": "aa1349c3",
   "metadata": {},
   "outputs": [],
   "source": [
    "# main_script.py\n",
    "\n",
    "import pandas as pd\n",
    "from functions import load_data, explore_data, analyze_missing_values, preprocess_data, filter_data, clean_sex_column, analyze_attacks_by_sex, analyze_attacks_by_year, analyze_fatal_attacks"
   ]
  },
  {
   "cell_type": "code",
   "execution_count": 2,
   "id": "d2894446",
   "metadata": {},
   "outputs": [],
   "source": [
    "ruta_archivo = 'https://www.sharkattackfile.net/spreadsheets/GSAF5.xls'\n",
    "df = load_data(ruta_archivo)"
   ]
  },
  {
   "cell_type": "markdown",
   "id": "12cb2905",
   "metadata": {},
   "source": [
    "### 2. Exploración Inicial de los Datos"
   ]
  },
  {
   "cell_type": "code",
   "execution_count": 3,
   "id": "bfbe4c6b",
   "metadata": {},
   "outputs": [
    {
     "name": "stdout",
     "output_type": "stream",
     "text": [
      "Shape of DataFrame: (6969, 23)\n",
      "Columns in DataFrame: Index(['Date', 'Year', 'Type', 'Country', 'State', 'Location', 'Activity',\n",
      "       'Name', 'Sex', 'Age', 'Injury', 'Unnamed: 11', 'Time', 'Species ',\n",
      "       'Source', 'pdf', 'href formula', 'href', 'Case Number', 'Case Number.1',\n",
      "       'original order', 'Unnamed: 21', 'Unnamed: 22'],\n",
      "      dtype='object')\n"
     ]
    }
   ],
   "source": [
    "explore_data(df)"
   ]
  },
  {
   "cell_type": "markdown",
   "id": "80396a22",
   "metadata": {},
   "source": [
    "### 3. Análisis de Valores Faltantes\n"
   ]
  },
  {
   "cell_type": "code",
   "execution_count": 4,
   "id": "9abbc740",
   "metadata": {},
   "outputs": [
    {
     "name": "stdout",
     "output_type": "stream",
     "text": [
      "                Missing values  Missing %\n",
      "Date                        25   0.358732\n",
      "Year                        27   0.387430\n",
      "Type                        43   0.617018\n",
      "Country                     75   1.076195\n",
      "State                      507   7.275075\n",
      "Location                   590   8.466064\n",
      "Activity                   611   8.767398\n",
      "Name                       245   3.515569\n",
      "Sex                        604   8.666954\n",
      "Age                       3019  43.320419\n",
      "Injury                      60   0.860956\n",
      "Unnamed: 11                587   8.423016\n",
      "Time                      3551  50.954226\n",
      "Species                   3157  45.300617\n",
      "Source                      44   0.631367\n",
      "pdf                        170   2.439374\n",
      "href formula               150   2.152389\n",
      "href                       173   2.482422\n",
      "Case Number                171   2.453724\n",
      "Case Number.1              172   2.468073\n",
      "original order             170   2.439374\n",
      "Unnamed: 21               6968  99.985651\n",
      "Unnamed: 22               6967  99.971301\n"
     ]
    },
    {
     "data": {
      "text/html": [
       "<div>\n",
       "<style scoped>\n",
       "    .dataframe tbody tr th:only-of-type {\n",
       "        vertical-align: middle;\n",
       "    }\n",
       "\n",
       "    .dataframe tbody tr th {\n",
       "        vertical-align: top;\n",
       "    }\n",
       "\n",
       "    .dataframe thead th {\n",
       "        text-align: right;\n",
       "    }\n",
       "</style>\n",
       "<table border=\"1\" class=\"dataframe\">\n",
       "  <thead>\n",
       "    <tr style=\"text-align: right;\">\n",
       "      <th></th>\n",
       "      <th>Missing values</th>\n",
       "      <th>Missing %</th>\n",
       "    </tr>\n",
       "  </thead>\n",
       "  <tbody>\n",
       "    <tr>\n",
       "      <th>Date</th>\n",
       "      <td>25</td>\n",
       "      <td>0.358732</td>\n",
       "    </tr>\n",
       "    <tr>\n",
       "      <th>Year</th>\n",
       "      <td>27</td>\n",
       "      <td>0.387430</td>\n",
       "    </tr>\n",
       "    <tr>\n",
       "      <th>Type</th>\n",
       "      <td>43</td>\n",
       "      <td>0.617018</td>\n",
       "    </tr>\n",
       "    <tr>\n",
       "      <th>Country</th>\n",
       "      <td>75</td>\n",
       "      <td>1.076195</td>\n",
       "    </tr>\n",
       "    <tr>\n",
       "      <th>State</th>\n",
       "      <td>507</td>\n",
       "      <td>7.275075</td>\n",
       "    </tr>\n",
       "    <tr>\n",
       "      <th>Location</th>\n",
       "      <td>590</td>\n",
       "      <td>8.466064</td>\n",
       "    </tr>\n",
       "    <tr>\n",
       "      <th>Activity</th>\n",
       "      <td>611</td>\n",
       "      <td>8.767398</td>\n",
       "    </tr>\n",
       "    <tr>\n",
       "      <th>Name</th>\n",
       "      <td>245</td>\n",
       "      <td>3.515569</td>\n",
       "    </tr>\n",
       "    <tr>\n",
       "      <th>Sex</th>\n",
       "      <td>604</td>\n",
       "      <td>8.666954</td>\n",
       "    </tr>\n",
       "    <tr>\n",
       "      <th>Age</th>\n",
       "      <td>3019</td>\n",
       "      <td>43.320419</td>\n",
       "    </tr>\n",
       "    <tr>\n",
       "      <th>Injury</th>\n",
       "      <td>60</td>\n",
       "      <td>0.860956</td>\n",
       "    </tr>\n",
       "    <tr>\n",
       "      <th>Unnamed: 11</th>\n",
       "      <td>587</td>\n",
       "      <td>8.423016</td>\n",
       "    </tr>\n",
       "    <tr>\n",
       "      <th>Time</th>\n",
       "      <td>3551</td>\n",
       "      <td>50.954226</td>\n",
       "    </tr>\n",
       "    <tr>\n",
       "      <th>Species</th>\n",
       "      <td>3157</td>\n",
       "      <td>45.300617</td>\n",
       "    </tr>\n",
       "    <tr>\n",
       "      <th>Source</th>\n",
       "      <td>44</td>\n",
       "      <td>0.631367</td>\n",
       "    </tr>\n",
       "    <tr>\n",
       "      <th>pdf</th>\n",
       "      <td>170</td>\n",
       "      <td>2.439374</td>\n",
       "    </tr>\n",
       "    <tr>\n",
       "      <th>href formula</th>\n",
       "      <td>150</td>\n",
       "      <td>2.152389</td>\n",
       "    </tr>\n",
       "    <tr>\n",
       "      <th>href</th>\n",
       "      <td>173</td>\n",
       "      <td>2.482422</td>\n",
       "    </tr>\n",
       "    <tr>\n",
       "      <th>Case Number</th>\n",
       "      <td>171</td>\n",
       "      <td>2.453724</td>\n",
       "    </tr>\n",
       "    <tr>\n",
       "      <th>Case Number.1</th>\n",
       "      <td>172</td>\n",
       "      <td>2.468073</td>\n",
       "    </tr>\n",
       "    <tr>\n",
       "      <th>original order</th>\n",
       "      <td>170</td>\n",
       "      <td>2.439374</td>\n",
       "    </tr>\n",
       "    <tr>\n",
       "      <th>Unnamed: 21</th>\n",
       "      <td>6968</td>\n",
       "      <td>99.985651</td>\n",
       "    </tr>\n",
       "    <tr>\n",
       "      <th>Unnamed: 22</th>\n",
       "      <td>6967</td>\n",
       "      <td>99.971301</td>\n",
       "    </tr>\n",
       "  </tbody>\n",
       "</table>\n",
       "</div>"
      ],
      "text/plain": [
       "                Missing values  Missing %\n",
       "Date                        25   0.358732\n",
       "Year                        27   0.387430\n",
       "Type                        43   0.617018\n",
       "Country                     75   1.076195\n",
       "State                      507   7.275075\n",
       "Location                   590   8.466064\n",
       "Activity                   611   8.767398\n",
       "Name                       245   3.515569\n",
       "Sex                        604   8.666954\n",
       "Age                       3019  43.320419\n",
       "Injury                      60   0.860956\n",
       "Unnamed: 11                587   8.423016\n",
       "Time                      3551  50.954226\n",
       "Species                   3157  45.300617\n",
       "Source                      44   0.631367\n",
       "pdf                        170   2.439374\n",
       "href formula               150   2.152389\n",
       "href                       173   2.482422\n",
       "Case Number                171   2.453724\n",
       "Case Number.1              172   2.468073\n",
       "original order             170   2.439374\n",
       "Unnamed: 21               6968  99.985651\n",
       "Unnamed: 22               6967  99.971301"
      ]
     },
     "execution_count": 4,
     "metadata": {},
     "output_type": "execute_result"
    }
   ],
   "source": [
    "analyze_missing_values(df)"
   ]
  },
  {
   "cell_type": "markdown",
   "id": "bcac96be",
   "metadata": {},
   "source": [
    "### 4. Preprocesamiento de Datos\n"
   ]
  },
  {
   "cell_type": "code",
   "execution_count": 5,
   "id": "3df23f15",
   "metadata": {},
   "outputs": [],
   "source": [
    "# Eliminar espacios en blanco y convertir todos los nombres de columna a minúsculas\n",
    "df.columns = df.columns.str.strip().str.lower()"
   ]
  },
  {
   "cell_type": "code",
   "execution_count": 6,
   "id": "58c04cb6",
   "metadata": {},
   "outputs": [
    {
     "data": {
      "text/html": [
       "<div>\n",
       "<style scoped>\n",
       "    .dataframe tbody tr th:only-of-type {\n",
       "        vertical-align: middle;\n",
       "    }\n",
       "\n",
       "    .dataframe tbody tr th {\n",
       "        vertical-align: top;\n",
       "    }\n",
       "\n",
       "    .dataframe thead th {\n",
       "        text-align: right;\n",
       "    }\n",
       "</style>\n",
       "<table border=\"1\" class=\"dataframe\">\n",
       "  <thead>\n",
       "    <tr style=\"text-align: right;\">\n",
       "      <th></th>\n",
       "      <th>date</th>\n",
       "      <th>year</th>\n",
       "      <th>type</th>\n",
       "      <th>country</th>\n",
       "      <th>state</th>\n",
       "      <th>location</th>\n",
       "      <th>activity</th>\n",
       "      <th>name</th>\n",
       "      <th>sex</th>\n",
       "      <th>age</th>\n",
       "      <th>injury</th>\n",
       "      <th>unnamed: 11</th>\n",
       "      <th>source</th>\n",
       "      <th>pdf</th>\n",
       "      <th>href formula</th>\n",
       "      <th>href</th>\n",
       "      <th>case number</th>\n",
       "      <th>case number.1</th>\n",
       "      <th>original order</th>\n",
       "    </tr>\n",
       "  </thead>\n",
       "  <tbody>\n",
       "    <tr>\n",
       "      <th>3749</th>\n",
       "      <td>05-Mar-1978</td>\n",
       "      <td>1978.0</td>\n",
       "      <td>Watercraft</td>\n",
       "      <td>SOUTH AFRICA</td>\n",
       "      <td>Eastern Cape Province</td>\n",
       "      <td>Gulu Deep, East London</td>\n",
       "      <td>NaN</td>\n",
       "      <td>6 m skiboat, occupants: P.A. Reeder &amp; crew</td>\n",
       "      <td>NaN</td>\n",
       "      <td>NaN</td>\n",
       "      <td>No injury to occupants; shark rammed boat 4 ti...</td>\n",
       "      <td>N</td>\n",
       "      <td>GSAF</td>\n",
       "      <td>1978.03.05-GuluDeep.pdf</td>\n",
       "      <td>http://sharkattackfile.net/spreadsheets/pdf_di...</td>\n",
       "      <td>http://sharkattackfile.net/spreadsheets/pdf_di...</td>\n",
       "      <td>1978.03.05</td>\n",
       "      <td>1978.03.05</td>\n",
       "      <td>3193.0</td>\n",
       "    </tr>\n",
       "    <tr>\n",
       "      <th>2619</th>\n",
       "      <td>25-Sep-2000</td>\n",
       "      <td>2000.0</td>\n",
       "      <td>Unprovoked</td>\n",
       "      <td>AUSTRALIA</td>\n",
       "      <td>South Australia</td>\n",
       "      <td>Black Point, Eyre Peninsula</td>\n",
       "      <td>Surfing</td>\n",
       "      <td>Jevan Wright</td>\n",
       "      <td>M</td>\n",
       "      <td>17</td>\n",
       "      <td>FATAL</td>\n",
       "      <td>Y</td>\n",
       "      <td>T. Peake, GSAF</td>\n",
       "      <td>2000.09.25-Wright.pdf</td>\n",
       "      <td>http://sharkattackfile.net/spreadsheets/pdf_di...</td>\n",
       "      <td>http://sharkattackfile.net/spreadsheets/pdf_di...</td>\n",
       "      <td>2000.09.25</td>\n",
       "      <td>2000.09.25</td>\n",
       "      <td>4323.0</td>\n",
       "    </tr>\n",
       "    <tr>\n",
       "      <th>5888</th>\n",
       "      <td>03-Feb-1920</td>\n",
       "      <td>1920.0</td>\n",
       "      <td>Unprovoked</td>\n",
       "      <td>SOUTH AFRICA</td>\n",
       "      <td>Eastern Cape Province</td>\n",
       "      <td>Zwartkops River</td>\n",
       "      <td>Floating face down</td>\n",
       "      <td>Thea Toft</td>\n",
       "      <td>F</td>\n",
       "      <td>18</td>\n",
       "      <td>Abdomen bitten</td>\n",
       "      <td>N</td>\n",
       "      <td>T. Toft, M. Levine, GSAF</td>\n",
       "      <td>1920.02.03-Toft.pdf</td>\n",
       "      <td>http://sharkattackfile.net/spreadsheets/pdf_di...</td>\n",
       "      <td>http://sharkattackfile.net/spreadsheets/pdf_di...</td>\n",
       "      <td>1920.02.03</td>\n",
       "      <td>1920.02.03</td>\n",
       "      <td>1055.0</td>\n",
       "    </tr>\n",
       "    <tr>\n",
       "      <th>2898</th>\n",
       "      <td>02-Sep-1996</td>\n",
       "      <td>1996.0</td>\n",
       "      <td>Unprovoked</td>\n",
       "      <td>USA</td>\n",
       "      <td>Florida</td>\n",
       "      <td>Behune Beach, Volusia County</td>\n",
       "      <td>Standing</td>\n",
       "      <td>William (or Richard) Schwall</td>\n",
       "      <td>M</td>\n",
       "      <td>5</td>\n",
       "      <td>Right foot bitten</td>\n",
       "      <td>N</td>\n",
       "      <td>S. Petersohn, GSAF; Orlando Sentinel , 9//7/19...</td>\n",
       "      <td>1996.09.02.b-Schwall.pdf</td>\n",
       "      <td>http://sharkattackfile.net/spreadsheets/pdf_di...</td>\n",
       "      <td>http://sharkattackfile.net/spreadsheets/pdf_di...</td>\n",
       "      <td>1996.09.02.b</td>\n",
       "      <td>1996.09.02.b</td>\n",
       "      <td>4044.0</td>\n",
       "    </tr>\n",
       "    <tr>\n",
       "      <th>6410</th>\n",
       "      <td>18-Aug-1884</td>\n",
       "      <td>1884.0</td>\n",
       "      <td>Invalid</td>\n",
       "      <td>USA</td>\n",
       "      <td>New York</td>\n",
       "      <td>Jamaica Bay</td>\n",
       "      <td>Clamming</td>\n",
       "      <td>Stephen Rylor</td>\n",
       "      <td>M</td>\n",
       "      <td>NaN</td>\n",
       "      <td>Unclear if he sustained any injury from the 7'...</td>\n",
       "      <td>NaN</td>\n",
       "      <td>New York Times, 8/20/1884</td>\n",
       "      <td>1884.08.18-Rylor.pdf</td>\n",
       "      <td>http://sharkattackfile.net/spreadsheets/pdf_di...</td>\n",
       "      <td>http://sharkattackfile.net/spreadsheets/pdf_di...</td>\n",
       "      <td>1884.08.18</td>\n",
       "      <td>1884.08.18</td>\n",
       "      <td>533.0</td>\n",
       "    </tr>\n",
       "  </tbody>\n",
       "</table>\n",
       "</div>"
      ],
      "text/plain": [
       "             date    year        type       country                  state  \\\n",
       "3749  05-Mar-1978  1978.0  Watercraft  SOUTH AFRICA  Eastern Cape Province   \n",
       "2619  25-Sep-2000  2000.0  Unprovoked     AUSTRALIA        South Australia   \n",
       "5888  03-Feb-1920  1920.0  Unprovoked  SOUTH AFRICA  Eastern Cape Province   \n",
       "2898  02-Sep-1996  1996.0  Unprovoked           USA                Florida   \n",
       "6410  18-Aug-1884  1884.0     Invalid           USA               New York   \n",
       "\n",
       "                          location            activity  \\\n",
       "3749        Gulu Deep, East London                 NaN   \n",
       "2619   Black Point, Eyre Peninsula             Surfing   \n",
       "5888               Zwartkops River  Floating face down   \n",
       "2898  Behune Beach, Volusia County            Standing   \n",
       "6410                   Jamaica Bay            Clamming   \n",
       "\n",
       "                                            name  sex  age  \\\n",
       "3749  6 m skiboat, occupants: P.A. Reeder & crew  NaN  NaN   \n",
       "2619                                Jevan Wright    M   17   \n",
       "5888                                   Thea Toft    F   18   \n",
       "2898                William (or Richard) Schwall    M    5   \n",
       "6410                               Stephen Rylor    M  NaN   \n",
       "\n",
       "                                                 injury unnamed: 11  \\\n",
       "3749  No injury to occupants; shark rammed boat 4 ti...           N   \n",
       "2619                                              FATAL           Y   \n",
       "5888                                     Abdomen bitten           N   \n",
       "2898                                  Right foot bitten           N   \n",
       "6410  Unclear if he sustained any injury from the 7'...         NaN   \n",
       "\n",
       "                                                 source  \\\n",
       "3749                                               GSAF   \n",
       "2619                                     T. Peake, GSAF   \n",
       "5888                           T. Toft, M. Levine, GSAF   \n",
       "2898  S. Petersohn, GSAF; Orlando Sentinel , 9//7/19...   \n",
       "6410                          New York Times, 8/20/1884   \n",
       "\n",
       "                           pdf  \\\n",
       "3749   1978.03.05-GuluDeep.pdf   \n",
       "2619     2000.09.25-Wright.pdf   \n",
       "5888       1920.02.03-Toft.pdf   \n",
       "2898  1996.09.02.b-Schwall.pdf   \n",
       "6410      1884.08.18-Rylor.pdf   \n",
       "\n",
       "                                           href formula  \\\n",
       "3749  http://sharkattackfile.net/spreadsheets/pdf_di...   \n",
       "2619  http://sharkattackfile.net/spreadsheets/pdf_di...   \n",
       "5888  http://sharkattackfile.net/spreadsheets/pdf_di...   \n",
       "2898  http://sharkattackfile.net/spreadsheets/pdf_di...   \n",
       "6410  http://sharkattackfile.net/spreadsheets/pdf_di...   \n",
       "\n",
       "                                                   href   case number  \\\n",
       "3749  http://sharkattackfile.net/spreadsheets/pdf_di...    1978.03.05   \n",
       "2619  http://sharkattackfile.net/spreadsheets/pdf_di...    2000.09.25   \n",
       "5888  http://sharkattackfile.net/spreadsheets/pdf_di...    1920.02.03   \n",
       "2898  http://sharkattackfile.net/spreadsheets/pdf_di...  1996.09.02.b   \n",
       "6410  http://sharkattackfile.net/spreadsheets/pdf_di...    1884.08.18   \n",
       "\n",
       "     case number.1  original order  \n",
       "3749    1978.03.05          3193.0  \n",
       "2619    2000.09.25          4323.0  \n",
       "5888    1920.02.03          1055.0  \n",
       "2898  1996.09.02.b          4044.0  \n",
       "6410    1884.08.18           533.0  "
      ]
     },
     "execution_count": 6,
     "metadata": {},
     "output_type": "execute_result"
    }
   ],
   "source": [
    "# Seleccionar varias columnas y mostrar una muestra aleatoria de 5 filas\n",
    "df[['date', 'year', 'type', 'country', 'state', 'location', 'activity', 'name', 'sex', 'age', 'injury', 'unnamed: 11', 'source', 'pdf', 'href formula', 'href', 'case number', 'case number.1', 'original order']].sample(5)"
   ]
  },
  {
   "cell_type": "code",
   "execution_count": 7,
   "id": "a669a63e",
   "metadata": {},
   "outputs": [],
   "source": [
    "# Eliminar todas las columnas que no contienen información relevante para nuestras hipótesis. \n",
    "df.drop([\"state\", \"location\", \"activity\", \"name\", \"age\", \"injury\", \"source\", \"pdf\", \"href formula\",\"href\", \"case number\", \"case number.1\", \"original order\", \"unnamed: 21\", \"unnamed: 22\", \"time\", \"species\"], axis=1, inplace=True)"
   ]
  },
  {
   "cell_type": "code",
   "execution_count": 8,
   "id": "45c35107",
   "metadata": {},
   "outputs": [],
   "source": [
    "# Cambiar el nombre de la columna 'unnamed: 11' a 'new_name'\n",
    "df.rename(columns={'unnamed: 11': 'fatal attack: yes/no'}, inplace=True)"
   ]
  },
  {
   "cell_type": "code",
   "execution_count": 9,
   "id": "471a3fe1",
   "metadata": {},
   "outputs": [
    {
     "data": {
      "text/plain": [
       "Index(['date', 'year', 'type', 'country', 'sex', 'fatal attack: yes/no'], dtype='object')"
      ]
     },
     "execution_count": 9,
     "metadata": {},
     "output_type": "execute_result"
    }
   ],
   "source": [
    "df.columns"
   ]
  },
  {
   "cell_type": "markdown",
   "id": "af35fe5f",
   "metadata": {},
   "source": [
    "### 5. Filtrado de Datos"
   ]
  },
  {
   "cell_type": "code",
   "execution_count": 10,
   "id": "ebfdaefb",
   "metadata": {},
   "outputs": [
    {
     "name": "stdout",
     "output_type": "stream",
     "text": [
      "Número de filas vacías en la columna 'Year': 27\n",
      "Número de filas después de eliminar las vacías: 6942\n",
      "Número de filas después de filtrar: 3121\n",
      "[1993.0, 1994.0, 1995.0, 1996.0, 1997.0, 1998.0, 1999.0, 2000.0, 2001.0, 2002.0, 2003.0, 2004.0, 2005.0, 2006.0, 2007.0, 2008.0, 2009.0, 2010.0, 2011.0, 2012.0, 2013.0, 2014.0, 2015.0, 2016.0, 2017.0, 2018.0, 2019.0, 2020.0, 2021.0, 2022.0, 2023.0]\n"
     ]
    }
   ],
   "source": [
    "df = filter_data(df)"
   ]
  },
  {
   "cell_type": "markdown",
   "id": "119dfd80",
   "metadata": {},
   "source": [
    "### 6. Limpieza de Datos"
   ]
  },
  {
   "cell_type": "code",
   "execution_count": 11,
   "id": "9ad1ffaa",
   "metadata": {},
   "outputs": [
    {
     "name": "stdout",
     "output_type": "stream",
     "text": [
      "\n",
      "DataFrame después de eliminar filas con datos nulos en cualquier columna:\n"
     ]
    },
    {
     "data": {
      "text/html": [
       "<div>\n",
       "<style scoped>\n",
       "    .dataframe tbody tr th:only-of-type {\n",
       "        vertical-align: middle;\n",
       "    }\n",
       "\n",
       "    .dataframe tbody tr th {\n",
       "        vertical-align: top;\n",
       "    }\n",
       "\n",
       "    .dataframe thead th {\n",
       "        text-align: right;\n",
       "    }\n",
       "</style>\n",
       "<table border=\"1\" class=\"dataframe\">\n",
       "  <thead>\n",
       "    <tr style=\"text-align: right;\">\n",
       "      <th></th>\n",
       "      <th>date</th>\n",
       "      <th>year</th>\n",
       "      <th>type</th>\n",
       "      <th>country</th>\n",
       "      <th>sex</th>\n",
       "      <th>fatal attack: yes/no</th>\n",
       "    </tr>\n",
       "  </thead>\n",
       "  <tbody>\n",
       "    <tr>\n",
       "      <th>10</th>\n",
       "      <td>30 Dec-2023</td>\n",
       "      <td>2023.0</td>\n",
       "      <td>Unprovoked</td>\n",
       "      <td>USA</td>\n",
       "      <td>M</td>\n",
       "      <td>Y</td>\n",
       "    </tr>\n",
       "    <tr>\n",
       "      <th>11</th>\n",
       "      <td>29 Dec-2023</td>\n",
       "      <td>2023.0</td>\n",
       "      <td>Unprovoked</td>\n",
       "      <td>MEXICO</td>\n",
       "      <td>M</td>\n",
       "      <td>Y</td>\n",
       "    </tr>\n",
       "    <tr>\n",
       "      <th>12</th>\n",
       "      <td>28 Dec-2023</td>\n",
       "      <td>2023.0</td>\n",
       "      <td>Unprovoked</td>\n",
       "      <td>AUSTRALIA</td>\n",
       "      <td>M</td>\n",
       "      <td>Y</td>\n",
       "    </tr>\n",
       "    <tr>\n",
       "      <th>13</th>\n",
       "      <td>25 Dec-2023</td>\n",
       "      <td>2023.0</td>\n",
       "      <td>Unprovoked</td>\n",
       "      <td>AUSTRALIA</td>\n",
       "      <td>M</td>\n",
       "      <td>N</td>\n",
       "    </tr>\n",
       "    <tr>\n",
       "      <th>14</th>\n",
       "      <td>24-Dec-2023</td>\n",
       "      <td>2023.0</td>\n",
       "      <td>Unprovoked</td>\n",
       "      <td>AUSTRALIA</td>\n",
       "      <td>M</td>\n",
       "      <td>N</td>\n",
       "    </tr>\n",
       "    <tr>\n",
       "      <th>...</th>\n",
       "      <td>...</td>\n",
       "      <td>...</td>\n",
       "      <td>...</td>\n",
       "      <td>...</td>\n",
       "      <td>...</td>\n",
       "      <td>...</td>\n",
       "    </tr>\n",
       "    <tr>\n",
       "      <th>3125</th>\n",
       "      <td>23-Jan-1993</td>\n",
       "      <td>1993.0</td>\n",
       "      <td>Unprovoked</td>\n",
       "      <td>BRAZIL</td>\n",
       "      <td>M</td>\n",
       "      <td>N</td>\n",
       "    </tr>\n",
       "    <tr>\n",
       "      <th>3126</th>\n",
       "      <td>05-Jan-1993</td>\n",
       "      <td>1993.0</td>\n",
       "      <td>Unprovoked</td>\n",
       "      <td>AUSTRALIA</td>\n",
       "      <td>M</td>\n",
       "      <td>N</td>\n",
       "    </tr>\n",
       "    <tr>\n",
       "      <th>3127</th>\n",
       "      <td>04-Jan-1993</td>\n",
       "      <td>1993.0</td>\n",
       "      <td>Watercraft</td>\n",
       "      <td>CARIBBEAN SEA</td>\n",
       "      <td>M</td>\n",
       "      <td>N</td>\n",
       "    </tr>\n",
       "    <tr>\n",
       "      <th>3128</th>\n",
       "      <td>02-Jan-1993</td>\n",
       "      <td>1993.0</td>\n",
       "      <td>Unprovoked</td>\n",
       "      <td>USA</td>\n",
       "      <td>M</td>\n",
       "      <td>N</td>\n",
       "    </tr>\n",
       "    <tr>\n",
       "      <th>3129</th>\n",
       "      <td>Fall 1993</td>\n",
       "      <td>1993.0</td>\n",
       "      <td>Unprovoked</td>\n",
       "      <td>ANGOLA</td>\n",
       "      <td>M</td>\n",
       "      <td>N</td>\n",
       "    </tr>\n",
       "  </tbody>\n",
       "</table>\n",
       "<p>2768 rows × 6 columns</p>\n",
       "</div>"
      ],
      "text/plain": [
       "             date    year        type        country sex fatal attack: yes/no\n",
       "10    30 Dec-2023  2023.0  Unprovoked            USA   M                    Y\n",
       "11    29 Dec-2023  2023.0  Unprovoked         MEXICO   M                    Y\n",
       "12    28 Dec-2023  2023.0  Unprovoked      AUSTRALIA   M                    Y\n",
       "13    25 Dec-2023  2023.0  Unprovoked      AUSTRALIA   M                    N\n",
       "14    24-Dec-2023  2023.0  Unprovoked      AUSTRALIA   M                    N\n",
       "...           ...     ...         ...            ...  ..                  ...\n",
       "3125  23-Jan-1993  1993.0  Unprovoked         BRAZIL   M                    N\n",
       "3126  05-Jan-1993  1993.0  Unprovoked      AUSTRALIA   M                    N\n",
       "3127  04-Jan-1993  1993.0  Watercraft  CARIBBEAN SEA   M                    N\n",
       "3128  02-Jan-1993  1993.0  Unprovoked            USA   M                    N\n",
       "3129    Fall 1993  1993.0  Unprovoked         ANGOLA   M                    N\n",
       "\n",
       "[2768 rows x 6 columns]"
      ]
     },
     "execution_count": 11,
     "metadata": {},
     "output_type": "execute_result"
    }
   ],
   "source": [
    "# Eliminar filas con datos nulos en cualquier columna\n",
    "df_cleaned_all = df.dropna()\n",
    "\n",
    "# Mostrar el DataFrame después de eliminar filas con nulos en cualquier columna\n",
    "print(\"\\nDataFrame después de eliminar filas con datos nulos en cualquier columna:\")\n",
    "df_cleaned_all"
   ]
  },
  {
   "cell_type": "markdown",
   "id": "a22efa77",
   "metadata": {},
   "source": [
    "### 7. Corrección de Valores en la Columna 'sex'"
   ]
  },
  {
   "cell_type": "code",
   "execution_count": 12,
   "id": "d861b338",
   "metadata": {},
   "outputs": [
    {
     "name": "stdout",
     "output_type": "stream",
     "text": [
      "Conteo de cada valor en la columna 'sex':\n",
      "sex\n",
      "M    2424\n",
      "F     535\n",
      "Name: count, dtype: int64\n"
     ]
    }
   ],
   "source": [
    "df = clean_sex_column(df)"
   ]
  },
  {
   "cell_type": "code",
   "execution_count": 13,
   "id": "d2238978",
   "metadata": {},
   "outputs": [],
   "source": [
    "df['year'] = df['year'].astype(int)"
   ]
  },
  {
   "cell_type": "markdown",
   "id": "7b480e72",
   "metadata": {},
   "source": [
    "### 8. Análisis y Visualización de Datos"
   ]
  },
  {
   "cell_type": "code",
   "execution_count": 14,
   "id": "5c53a18b",
   "metadata": {},
   "outputs": [
    {
     "name": "stdout",
     "output_type": "stream",
     "text": [
      "Número total de ataques por genero:\n",
      "sex\n",
      "M    2158\n",
      "F     481\n",
      "Name: count, dtype: int64\n",
      "\n",
      "Proporción de ataques por genero:\n",
      "sex\n",
      "M    0.817734\n",
      "F    0.182266\n",
      "Name: count, dtype: float64\n"
     ]
    },
    {
     "data": {
      "image/png": "[encoded data removed]",
      "text/plain": [
       "<Figure size 1000x600 with 1 Axes>"
      ]
     },
     "metadata": {},
     "output_type": "display_data"
    },
    {
     "data": {
      "image/png": "[encoded data removed]",
      "text/plain": [
       "<Figure size 800x800 with 1 Axes>"
      ]
     },
     "metadata": {},
     "output_type": "display_data"
    }
   ],
   "source": [
    "analyze_attacks_by_sex(df)"
   ]
  },
  {
   "cell_type": "code",
   "execution_count": 15,
   "id": "55169fde",
   "metadata": {},
   "outputs": [
    {
     "name": "stdout",
     "output_type": "stream",
     "text": [
      "Número de ataques fatales por genero:\n",
      "sex\n",
      "M    247\n",
      "F     42\n",
      "Name: count, dtype: int64\n",
      "\n",
      "Proporción de ataques fatales por genero:\n",
      "sex\n",
      "M    0.854671\n",
      "F    0.145329\n",
      "Name: count, dtype: float64\n"
     ]
    },
    {
     "name": "stderr",
     "output_type": "stream",
     "text": [
      "c:\\Users\\Usuario\\Desktop\\IRONHACK EXERCISES\\SHARK ATTACK PROJECT\\PROYECTO FINAL\\functions.py:129: FutureWarning: \n",
      "\n",
      "Passing `palette` without assigning `hue` is deprecated and will be removed in v0.14.0. Assign the `x` variable to `hue` and set `legend=False` for the same effect.\n",
      "\n",
      "  sns.barplot(x='sex', y='count', data=fatal_attacks_by_sex_df, palette='coolwarm', errorbar=None)\n"
     ]
    },
    {
     "data": {
      "image/png": "[encoded data removed]",
      "text/plain": [
       "<Figure size 1000x600 with 1 Axes>"
      ]
     },
     "metadata": {},
     "output_type": "display_data"
    },
    {
     "data": {
      "image/png": "[encoded data removed]",
      "text/plain": [
       "<Figure size 800x800 with 1 Axes>"
      ]
     },
     "metadata": {},
     "output_type": "display_data"
    }
   ],
   "source": [
    "analyze_fatal_attacks(df)"
   ]
  },
  {
   "cell_type": "code",
   "execution_count": 16,
   "id": "53313007",
   "metadata": {},
   "outputs": [
    {
     "name": "stdout",
     "output_type": "stream",
     "text": [
      "Número de ataques por año:\n",
      "year\n",
      "1993     45\n",
      "1994     49\n",
      "1995     72\n",
      "1996     53\n",
      "1997     53\n",
      "1998     61\n",
      "1999     62\n",
      "2000     86\n",
      "2001     84\n",
      "2002     82\n",
      "2003     87\n",
      "2004     83\n",
      "2005     93\n",
      "2006     98\n",
      "2007    108\n",
      "2008    116\n",
      "2009    115\n",
      "2010    101\n",
      "2011    123\n",
      "2012    110\n",
      "2013    121\n",
      "2014    116\n",
      "2015    141\n",
      "2016    127\n",
      "2017    134\n",
      "2018    124\n",
      "2019    111\n",
      "2020     96\n",
      "2021    107\n",
      "2022     95\n",
      "2023    106\n",
      "Name: count, dtype: int64\n",
      "El porcentaje de aumento en ataques de tiburones entre 1994 y 2023 es: 116.33%\n"
     ]
    },
    {
     "data": {
      "image/png": "[encoded data removed]",
      "text/plain": [
       "<Figure size 1200x600 with 1 Axes>"
      ]
     },
     "metadata": {},
     "output_type": "display_data"
    }
   ],
   "source": [
    "analyze_attacks_by_year(df)"
   ]
  }
 ],
 "metadata": {
  "kernelspec": {
   "display_name": "base",
   "language": "python",
   "name": "python3"
  },
  "language_info": {
   "codemirror_mode": {
    "name": "ipython",
    "version": 3
   },
   "file_extension": ".py",
   "mimetype": "text/x-python",
   "name": "python",
   "nbconvert_exporter": "python",
   "pygments_lexer": "ipython3",
   "version": "3.12.4"
  }
 },
 "nbformat": 4,
 "nbformat_minor": 5
}
