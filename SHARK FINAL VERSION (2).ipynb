{
 "cells": [
  {
   "cell_type": "markdown",
   "id": "1933ec75",
   "metadata": {},
   "source": [
    "### 1. Importación de Librerías y Carga de Datos"
   ]
  },
  {
   "cell_type": "code",
   "execution_count": 39,
   "id": "aa1349c3",
   "metadata": {},
   "outputs": [],
   "source": [
    "import pandas as pd\n",
    "import seaborn as sns\n",
    "import matplotlib.pyplot as plt\n",
    "\n",
    "ruta_archivo = 'https://www.sharkattackfile.net/spreadsheets/GSAF5.xls'\n",
    "df = pd.read_excel(ruta_archivo)"
   ]
  },
  {
   "cell_type": "markdown",
   "id": "12cb2905",
   "metadata": {},
   "source": [
    "### 2. Exploración Inicial de los Datos"
   ]
  },
  {
   "cell_type": "code",
   "execution_count": 40,
   "id": "0fee5178",
   "metadata": {},
   "outputs": [
    {
     "data": {
      "text/plain": [
       "(6969, 23)"
      ]
     },
     "execution_count": 40,
     "metadata": {},
     "output_type": "execute_result"
    }
   ],
   "source": [
    "# La cantidad de filas y columnas en DataFrame\n",
    "\n",
    "df.shape"
   ]
  },
  {
   "cell_type": "code",
   "execution_count": 41,
   "id": "ec3d0f51",
   "metadata": {},
   "outputs": [
    {
     "data": {
      "text/plain": [
       "Index(['Date', 'Year', 'Type', 'Country', 'State', 'Location', 'Activity',\n",
       "       'Name', 'Sex', 'Age', 'Injury', 'Unnamed: 11', 'Time', 'Species ',\n",
       "       'Source', 'pdf', 'href formula', 'href', 'Case Number', 'Case Number.1',\n",
       "       'original order', 'Unnamed: 21', 'Unnamed: 22'],\n",
       "      dtype='object')"
      ]
     },
     "execution_count": 41,
     "metadata": {},
     "output_type": "execute_result"
    }
   ],
   "source": [
    "# Los nombres de columnas\n",
    "\n",
    "df.columns"
   ]
  },
  {
   "cell_type": "markdown",
   "id": "80396a22",
   "metadata": {},
   "source": [
    "### 3. Análisis de Valores Faltantes\n"
   ]
  },
  {
   "cell_type": "code",
   "execution_count": 42,
   "id": "cf01265b",
   "metadata": {},
   "outputs": [
    {
     "data": {
      "text/html": [
       "<div>\n",
       "<style scoped>\n",
       "    .dataframe tbody tr th:only-of-type {\n",
       "        vertical-align: middle;\n",
       "    }\n",
       "\n",
       "    .dataframe tbody tr th {\n",
       "        vertical-align: top;\n",
       "    }\n",
       "\n",
       "    .dataframe thead th {\n",
       "        text-align: right;\n",
       "    }\n",
       "</style>\n",
       "<table border=\"1\" class=\"dataframe\">\n",
       "  <thead>\n",
       "    <tr style=\"text-align: right;\">\n",
       "      <th></th>\n",
       "      <th>Missing values</th>\n",
       "      <th>Missing %</th>\n",
       "    </tr>\n",
       "  </thead>\n",
       "  <tbody>\n",
       "    <tr>\n",
       "      <th>Date</th>\n",
       "      <td>25</td>\n",
       "      <td>0.358732</td>\n",
       "    </tr>\n",
       "    <tr>\n",
       "      <th>Year</th>\n",
       "      <td>27</td>\n",
       "      <td>0.387430</td>\n",
       "    </tr>\n",
       "    <tr>\n",
       "      <th>Type</th>\n",
       "      <td>43</td>\n",
       "      <td>0.617018</td>\n",
       "    </tr>\n",
       "    <tr>\n",
       "      <th>Country</th>\n",
       "      <td>75</td>\n",
       "      <td>1.076195</td>\n",
       "    </tr>\n",
       "    <tr>\n",
       "      <th>State</th>\n",
       "      <td>507</td>\n",
       "      <td>7.275075</td>\n",
       "    </tr>\n",
       "    <tr>\n",
       "      <th>Location</th>\n",
       "      <td>590</td>\n",
       "      <td>8.466064</td>\n",
       "    </tr>\n",
       "    <tr>\n",
       "      <th>Activity</th>\n",
       "      <td>611</td>\n",
       "      <td>8.767398</td>\n",
       "    </tr>\n",
       "    <tr>\n",
       "      <th>Name</th>\n",
       "      <td>245</td>\n",
       "      <td>3.515569</td>\n",
       "    </tr>\n",
       "    <tr>\n",
       "      <th>Sex</th>\n",
       "      <td>604</td>\n",
       "      <td>8.666954</td>\n",
       "    </tr>\n",
       "    <tr>\n",
       "      <th>Age</th>\n",
       "      <td>3019</td>\n",
       "      <td>43.320419</td>\n",
       "    </tr>\n",
       "    <tr>\n",
       "      <th>Injury</th>\n",
       "      <td>60</td>\n",
       "      <td>0.860956</td>\n",
       "    </tr>\n",
       "    <tr>\n",
       "      <th>Unnamed: 11</th>\n",
       "      <td>587</td>\n",
       "      <td>8.423016</td>\n",
       "    </tr>\n",
       "    <tr>\n",
       "      <th>Time</th>\n",
       "      <td>3551</td>\n",
       "      <td>50.954226</td>\n",
       "    </tr>\n",
       "    <tr>\n",
       "      <th>Species</th>\n",
       "      <td>3157</td>\n",
       "      <td>45.300617</td>\n",
       "    </tr>\n",
       "    <tr>\n",
       "      <th>Source</th>\n",
       "      <td>44</td>\n",
       "      <td>0.631367</td>\n",
       "    </tr>\n",
       "    <tr>\n",
       "      <th>pdf</th>\n",
       "      <td>170</td>\n",
       "      <td>2.439374</td>\n",
       "    </tr>\n",
       "    <tr>\n",
       "      <th>href formula</th>\n",
       "      <td>150</td>\n",
       "      <td>2.152389</td>\n",
       "    </tr>\n",
       "    <tr>\n",
       "      <th>href</th>\n",
       "      <td>173</td>\n",
       "      <td>2.482422</td>\n",
       "    </tr>\n",
       "    <tr>\n",
       "      <th>Case Number</th>\n",
       "      <td>171</td>\n",
       "      <td>2.453724</td>\n",
       "    </tr>\n",
       "    <tr>\n",
       "      <th>Case Number.1</th>\n",
       "      <td>172</td>\n",
       "      <td>2.468073</td>\n",
       "    </tr>\n",
       "    <tr>\n",
       "      <th>original order</th>\n",
       "      <td>170</td>\n",
       "      <td>2.439374</td>\n",
       "    </tr>\n",
       "    <tr>\n",
       "      <th>Unnamed: 21</th>\n",
       "      <td>6968</td>\n",
       "      <td>99.985651</td>\n",
       "    </tr>\n",
       "    <tr>\n",
       "      <th>Unnamed: 22</th>\n",
       "      <td>6967</td>\n",
       "      <td>99.971301</td>\n",
       "    </tr>\n",
       "  </tbody>\n",
       "</table>\n",
       "</div>"
      ],
      "text/plain": [
       "                Missing values  Missing %\n",
       "Date                        25   0.358732\n",
       "Year                        27   0.387430\n",
       "Type                        43   0.617018\n",
       "Country                     75   1.076195\n",
       "State                      507   7.275075\n",
       "Location                   590   8.466064\n",
       "Activity                   611   8.767398\n",
       "Name                       245   3.515569\n",
       "Sex                        604   8.666954\n",
       "Age                       3019  43.320419\n",
       "Injury                      60   0.860956\n",
       "Unnamed: 11                587   8.423016\n",
       "Time                      3551  50.954226\n",
       "Species                   3157  45.300617\n",
       "Source                      44   0.631367\n",
       "pdf                        170   2.439374\n",
       "href formula               150   2.152389\n",
       "href                       173   2.482422\n",
       "Case Number                171   2.453724\n",
       "Case Number.1              172   2.468073\n",
       "original order             170   2.439374\n",
       "Unnamed: 21               6968  99.985651\n",
       "Unnamed: 22               6967  99.971301"
      ]
     },
     "execution_count": 42,
     "metadata": {},
     "output_type": "execute_result"
    }
   ],
   "source": [
    "# Para analizar la cantidad y el porcentaje de valores faltantes (NaN) en cada columna de un DataFrame \n",
    "\n",
    "df_nan = df.isna().sum()\n",
    "percent = df_nan * 100 / len(df)\n",
    "missing_values = pd.DataFrame({'Missing values': df_nan, 'Missing %': percent})\n",
    "missing_values"
   ]
  },
  {
   "cell_type": "markdown",
   "id": "bcac96be",
   "metadata": {},
   "source": [
    "### 4. Preprocesamiento de Datos\n"
   ]
  },
  {
   "cell_type": "code",
   "execution_count": 43,
   "id": "bdb6197a",
   "metadata": {},
   "outputs": [],
   "source": [
    "# Eliminar espacios en blanco y convertir todos los nombres de columna a minúsculas\n",
    "df.columns = df.columns.str.strip().str.lower()\n"
   ]
  },
  {
   "cell_type": "code",
   "execution_count": 44,
   "id": "9030d460",
   "metadata": {},
   "outputs": [
    {
     "data": {
      "text/html": [
       "<div>\n",
       "<style scoped>\n",
       "    .dataframe tbody tr th:only-of-type {\n",
       "        vertical-align: middle;\n",
       "    }\n",
       "\n",
       "    .dataframe tbody tr th {\n",
       "        vertical-align: top;\n",
       "    }\n",
       "\n",
       "    .dataframe thead th {\n",
       "        text-align: right;\n",
       "    }\n",
       "</style>\n",
       "<table border=\"1\" class=\"dataframe\">\n",
       "  <thead>\n",
       "    <tr style=\"text-align: right;\">\n",
       "      <th></th>\n",
       "      <th>date</th>\n",
       "      <th>year</th>\n",
       "      <th>type</th>\n",
       "      <th>country</th>\n",
       "      <th>state</th>\n",
       "      <th>location</th>\n",
       "      <th>activity</th>\n",
       "      <th>name</th>\n",
       "      <th>sex</th>\n",
       "      <th>age</th>\n",
       "      <th>injury</th>\n",
       "      <th>unnamed: 11</th>\n",
       "      <th>source</th>\n",
       "      <th>pdf</th>\n",
       "      <th>href formula</th>\n",
       "      <th>href</th>\n",
       "      <th>case number</th>\n",
       "      <th>case number.1</th>\n",
       "      <th>original order</th>\n",
       "    </tr>\n",
       "  </thead>\n",
       "  <tbody>\n",
       "    <tr>\n",
       "      <th>2628</th>\n",
       "      <td>10-Sep-2000</td>\n",
       "      <td>2000.0</td>\n",
       "      <td>Unprovoked</td>\n",
       "      <td>SOUTH AFRICA</td>\n",
       "      <td>Western Cape Province</td>\n",
       "      <td>Dyer Island</td>\n",
       "      <td>Free diving</td>\n",
       "      <td>Gary Adkison</td>\n",
       "      <td>M</td>\n",
       "      <td>48</td>\n",
       "      <td>Swim fin bitten</td>\n",
       "      <td>N</td>\n",
       "      <td>E. Ritter, GSAF</td>\n",
       "      <td>2000.09.10.a-Adkinson.pdf</td>\n",
       "      <td>http://sharkattackfile.net/spreadsheets/pdf_di...</td>\n",
       "      <td>http://sharkattackfile.net/spreadsheets/pdf_di...</td>\n",
       "      <td>2000.09.10.a</td>\n",
       "      <td>2000.09.10.a</td>\n",
       "      <td>4314.0</td>\n",
       "    </tr>\n",
       "    <tr>\n",
       "      <th>2506</th>\n",
       "      <td>23-Nov-2001</td>\n",
       "      <td>2001.0</td>\n",
       "      <td>Unprovoked</td>\n",
       "      <td>AUSTRALIA</td>\n",
       "      <td>New South Wales</td>\n",
       "      <td>Flat Rock Beach, Lennox Head</td>\n",
       "      <td>Surfing</td>\n",
       "      <td>Roger Frankland</td>\n",
       "      <td>M</td>\n",
       "      <td>49</td>\n",
       "      <td>No Injury, shark hit board</td>\n",
       "      <td>N</td>\n",
       "      <td>T. Peake, GSAF</td>\n",
       "      <td>2001.11.23-Frankland.pdf</td>\n",
       "      <td>http://sharkattackfile.net/spreadsheets/pdf_di...</td>\n",
       "      <td>http://sharkattackfile.net/spreadsheets/pdf_di...</td>\n",
       "      <td>2001.11.23</td>\n",
       "      <td>2001.11.23</td>\n",
       "      <td>4436.0</td>\n",
       "    </tr>\n",
       "    <tr>\n",
       "      <th>4419</th>\n",
       "      <td>13-Sep-1962</td>\n",
       "      <td>1962.0</td>\n",
       "      <td>Unprovoked</td>\n",
       "      <td>SOUTH ATLANTIC OCEAN</td>\n",
       "      <td>Off coast of West Africa</td>\n",
       "      <td>Off the passenger liner Stirling Castle</td>\n",
       "      <td>When  a deckhand  jumped overboard, McIver div...</td>\n",
       "      <td>John MacIver</td>\n",
       "      <td>M</td>\n",
       "      <td>29</td>\n",
       "      <td>FATAL, he died within minutes of being hauled ...</td>\n",
       "      <td>Y</td>\n",
       "      <td>Daily Express (London), et. al, 9/22/1962</td>\n",
       "      <td>1962.09.13-MacIver.pdf</td>\n",
       "      <td>http://sharkattackfile.net/spreadsheets/pdf_di...</td>\n",
       "      <td>http://sharkattackfile.net/spreadsheets/pdf_di...</td>\n",
       "      <td>1962.09.13</td>\n",
       "      <td>1962.09.13</td>\n",
       "      <td>2523.0</td>\n",
       "    </tr>\n",
       "    <tr>\n",
       "      <th>4805</th>\n",
       "      <td>1958</td>\n",
       "      <td>1958.0</td>\n",
       "      <td>Unprovoked</td>\n",
       "      <td>PAPUA NEW GUINEA</td>\n",
       "      <td>Morobe Province</td>\n",
       "      <td>Korem, Finschhafen</td>\n",
       "      <td>Fishing, holding fish</td>\n",
       "      <td>male x 3</td>\n",
       "      <td>M</td>\n",
       "      <td>NaN</td>\n",
       "      <td>Hand holding the fish was bitten in all 3 cases</td>\n",
       "      <td>N</td>\n",
       "      <td>A.D. Campbell; A. M. Rapson, p.149</td>\n",
       "      <td>1958.00.00.c-Korem.pdf</td>\n",
       "      <td>http://sharkattackfile.net/spreadsheets/pdf_di...</td>\n",
       "      <td>http://sharkattackfile.net/spreadsheets/pdf_di...</td>\n",
       "      <td>1958.00.00.c</td>\n",
       "      <td>1958.00.00.c</td>\n",
       "      <td>2137.0</td>\n",
       "    </tr>\n",
       "    <tr>\n",
       "      <th>6194</th>\n",
       "      <td>Early 1900s</td>\n",
       "      <td>1900.0</td>\n",
       "      <td>Unprovoked</td>\n",
       "      <td>USA</td>\n",
       "      <td>Hawaii</td>\n",
       "      <td>Inter-Island Dry Dock at Kakaako Street, Honol...</td>\n",
       "      <td>NaN</td>\n",
       "      <td>Emil A. Berndt</td>\n",
       "      <td>M</td>\n",
       "      <td>NaN</td>\n",
       "      <td>Severe abrasion when shark swam between his legs</td>\n",
       "      <td>N</td>\n",
       "      <td>G. H. Balazs; J. Borg, p.69; L. Taylor (1993),...</td>\n",
       "      <td>1900.00.00.b-Berndt.pdf</td>\n",
       "      <td>http://sharkattackfile.net/spreadsheets/pdf_di...</td>\n",
       "      <td>http://sharkattackfile.net/spreadsheets/pdf_di...</td>\n",
       "      <td>1900.00.00.b</td>\n",
       "      <td>1900.00.00.b</td>\n",
       "      <td>749.0</td>\n",
       "    </tr>\n",
       "  </tbody>\n",
       "</table>\n",
       "</div>"
      ],
      "text/plain": [
       "             date    year        type               country  \\\n",
       "2628  10-Sep-2000  2000.0  Unprovoked          SOUTH AFRICA   \n",
       "2506  23-Nov-2001  2001.0  Unprovoked             AUSTRALIA   \n",
       "4419  13-Sep-1962  1962.0  Unprovoked  SOUTH ATLANTIC OCEAN   \n",
       "4805         1958  1958.0  Unprovoked      PAPUA NEW GUINEA   \n",
       "6194  Early 1900s  1900.0  Unprovoked                   USA   \n",
       "\n",
       "                         state  \\\n",
       "2628     Western Cape Province   \n",
       "2506           New South Wales   \n",
       "4419  Off coast of West Africa   \n",
       "4805           Morobe Province   \n",
       "6194                    Hawaii   \n",
       "\n",
       "                                               location  \\\n",
       "2628                                        Dyer Island   \n",
       "2506                       Flat Rock Beach, Lennox Head   \n",
       "4419            Off the passenger liner Stirling Castle   \n",
       "4805                                Korem, Finschhafen    \n",
       "6194  Inter-Island Dry Dock at Kakaako Street, Honol...   \n",
       "\n",
       "                                               activity             name sex  \\\n",
       "2628                                        Free diving     Gary Adkison   M   \n",
       "2506                                            Surfing  Roger Frankland   M   \n",
       "4419  When  a deckhand  jumped overboard, McIver div...     John MacIver   M   \n",
       "4805                              Fishing, holding fish         male x 3   M   \n",
       "6194                                                NaN   Emil A. Berndt   M   \n",
       "\n",
       "      age                                             injury unnamed: 11  \\\n",
       "2628   48                                    Swim fin bitten           N   \n",
       "2506   49                         No Injury, shark hit board           N   \n",
       "4419   29  FATAL, he died within minutes of being hauled ...           Y   \n",
       "4805  NaN    Hand holding the fish was bitten in all 3 cases           N   \n",
       "6194  NaN   Severe abrasion when shark swam between his legs           N   \n",
       "\n",
       "                                                 source  \\\n",
       "2628                                    E. Ritter, GSAF   \n",
       "2506                                     T. Peake, GSAF   \n",
       "4419         Daily Express (London), et. al, 9/22/1962    \n",
       "4805                 A.D. Campbell; A. M. Rapson, p.149   \n",
       "6194  G. H. Balazs; J. Borg, p.69; L. Taylor (1993),...   \n",
       "\n",
       "                            pdf  \\\n",
       "2628  2000.09.10.a-Adkinson.pdf   \n",
       "2506   2001.11.23-Frankland.pdf   \n",
       "4419     1962.09.13-MacIver.pdf   \n",
       "4805     1958.00.00.c-Korem.pdf   \n",
       "6194    1900.00.00.b-Berndt.pdf   \n",
       "\n",
       "                                           href formula  \\\n",
       "2628  http://sharkattackfile.net/spreadsheets/pdf_di...   \n",
       "2506  http://sharkattackfile.net/spreadsheets/pdf_di...   \n",
       "4419  http://sharkattackfile.net/spreadsheets/pdf_di...   \n",
       "4805  http://sharkattackfile.net/spreadsheets/pdf_di...   \n",
       "6194  http://sharkattackfile.net/spreadsheets/pdf_di...   \n",
       "\n",
       "                                                   href   case number  \\\n",
       "2628  http://sharkattackfile.net/spreadsheets/pdf_di...  2000.09.10.a   \n",
       "2506  http://sharkattackfile.net/spreadsheets/pdf_di...    2001.11.23   \n",
       "4419  http://sharkattackfile.net/spreadsheets/pdf_di...    1962.09.13   \n",
       "4805  http://sharkattackfile.net/spreadsheets/pdf_di...  1958.00.00.c   \n",
       "6194  http://sharkattackfile.net/spreadsheets/pdf_di...  1900.00.00.b   \n",
       "\n",
       "     case number.1  original order  \n",
       "2628  2000.09.10.a          4314.0  \n",
       "2506    2001.11.23          4436.0  \n",
       "4419    1962.09.13          2523.0  \n",
       "4805  1958.00.00.c          2137.0  \n",
       "6194  1900.00.00.b           749.0  "
      ]
     },
     "execution_count": 44,
     "metadata": {},
     "output_type": "execute_result"
    }
   ],
   "source": [
    "# Seleccionar varias columnas y mostrar una muestra aleatoria de 5 filas\n",
    "df[['date', 'year', 'type', 'country', 'state', 'location', 'activity', 'name', 'sex', 'age', 'injury', 'unnamed: 11', 'source', 'pdf', 'href formula', 'href', 'case number', 'case number.1', 'original order']].sample(5)"
   ]
  },
  {
   "cell_type": "code",
   "execution_count": 45,
   "id": "9c48516e",
   "metadata": {},
   "outputs": [],
   "source": [
    "# Eliminar todas las columnas que no contienen información relevante para nuestras hipótesis. \n",
    "df.drop([\"state\", \"location\", \"activity\", \"name\", \"age\", \"injury\", \"source\", \"pdf\", \"href formula\",\"href\", \"case number\", \"case number.1\", \"original order\", \"unnamed: 21\", \"unnamed: 22\", \"time\", \"species\"], axis=1, inplace=True)"
   ]
  },
  {
   "cell_type": "code",
   "execution_count": 46,
   "id": "5e05ee5c",
   "metadata": {},
   "outputs": [],
   "source": [
    "# Cambiar el nombre de la columna 'unnamed: 11' a 'new_name'\n",
    "df.rename(columns={'unnamed: 11': 'fatal attack: yes/no'}, inplace=True)"
   ]
  },
  {
   "cell_type": "code",
   "execution_count": 47,
   "id": "6bfce714",
   "metadata": {},
   "outputs": [
    {
     "data": {
      "text/plain": [
       "Index(['date', 'year', 'type', 'country', 'sex', 'fatal attack: yes/no'], dtype='object')"
      ]
     },
     "execution_count": 47,
     "metadata": {},
     "output_type": "execute_result"
    }
   ],
   "source": [
    "df.columns"
   ]
  },
  {
   "cell_type": "markdown",
   "id": "af35fe5f",
   "metadata": {},
   "source": [
    "### 5. Filtrado de Datos"
   ]
  },
  {
   "cell_type": "code",
   "execution_count": 48,
   "id": "ca5afdff",
   "metadata": {},
   "outputs": [],
   "source": [
    "# Crear una serie booleana donde cada valor es True si el año en la columna 'Year' es mayor o igual a 1994 y False en caso contrario.\n",
    "# Filtra el DataFrame df para conservar solo las filas donde el año cumple con la condición (mayor o igual a 1994).\n",
    "df = df[df['year'] >= 1994]"
   ]
  },
  {
   "cell_type": "code",
   "execution_count": 49,
   "id": "d65fb1c2",
   "metadata": {},
   "outputs": [
    {
     "name": "stdout",
     "output_type": "stream",
     "text": [
      "Rango de años en el DataFrame filtrado: 1994.0 - 2024.0\n"
     ]
    }
   ],
   "source": [
    "# Verifica el rango de los años en el DataFrame filtrado\n",
    "min_year = df['year'].min()\n",
    "max_year = df['year'].max()\n",
    "\n",
    "print(f\"Rango de años en el DataFrame filtrado: {min_year} - {max_year}\")"
   ]
  },
  {
   "cell_type": "markdown",
   "id": "119dfd80",
   "metadata": {},
   "source": [
    "### 6. Limpieza de Datos"
   ]
  },
  {
   "cell_type": "code",
   "execution_count": 50,
   "id": "9ad1ffaa",
   "metadata": {},
   "outputs": [
    {
     "name": "stdout",
     "output_type": "stream",
     "text": [
      "\n",
      "DataFrame después de eliminar filas con datos nulos en cualquier columna:\n"
     ]
    },
    {
     "data": {
      "text/html": [
       "<div>\n",
       "<style scoped>\n",
       "    .dataframe tbody tr th:only-of-type {\n",
       "        vertical-align: middle;\n",
       "    }\n",
       "\n",
       "    .dataframe tbody tr th {\n",
       "        vertical-align: top;\n",
       "    }\n",
       "\n",
       "    .dataframe thead th {\n",
       "        text-align: right;\n",
       "    }\n",
       "</style>\n",
       "<table border=\"1\" class=\"dataframe\">\n",
       "  <thead>\n",
       "    <tr style=\"text-align: right;\">\n",
       "      <th></th>\n",
       "      <th>date</th>\n",
       "      <th>year</th>\n",
       "      <th>type</th>\n",
       "      <th>country</th>\n",
       "      <th>sex</th>\n",
       "      <th>fatal attack: yes/no</th>\n",
       "    </tr>\n",
       "  </thead>\n",
       "  <tbody>\n",
       "    <tr>\n",
       "      <th>1</th>\n",
       "      <td>04 Mar 2024</td>\n",
       "      <td>2024.0</td>\n",
       "      <td>Unprovoked</td>\n",
       "      <td>USA</td>\n",
       "      <td>M</td>\n",
       "      <td>N</td>\n",
       "    </tr>\n",
       "    <tr>\n",
       "      <th>2</th>\n",
       "      <td>02 Mar-2024</td>\n",
       "      <td>2024.0</td>\n",
       "      <td>Unprovoked</td>\n",
       "      <td>USA</td>\n",
       "      <td>F</td>\n",
       "      <td>N</td>\n",
       "    </tr>\n",
       "    <tr>\n",
       "      <th>3</th>\n",
       "      <td>25 Feb-2024</td>\n",
       "      <td>2024.0</td>\n",
       "      <td>Unprovoked</td>\n",
       "      <td>AUSTRALIA</td>\n",
       "      <td>F</td>\n",
       "      <td>N</td>\n",
       "    </tr>\n",
       "    <tr>\n",
       "      <th>4</th>\n",
       "      <td>14 Feb-2024</td>\n",
       "      <td>2024.0</td>\n",
       "      <td>Unprovoked</td>\n",
       "      <td>INDIA</td>\n",
       "      <td>M</td>\n",
       "      <td>N</td>\n",
       "    </tr>\n",
       "    <tr>\n",
       "      <th>5</th>\n",
       "      <td>04-Feb-2024</td>\n",
       "      <td>2024.0</td>\n",
       "      <td>Provoked</td>\n",
       "      <td>TRINIDAD</td>\n",
       "      <td>M</td>\n",
       "      <td>N</td>\n",
       "    </tr>\n",
       "    <tr>\n",
       "      <th>...</th>\n",
       "      <td>...</td>\n",
       "      <td>...</td>\n",
       "      <td>...</td>\n",
       "      <td>...</td>\n",
       "      <td>...</td>\n",
       "      <td>...</td>\n",
       "    </tr>\n",
       "    <tr>\n",
       "      <th>3071</th>\n",
       "      <td>30-Jan-1994</td>\n",
       "      <td>1994.0</td>\n",
       "      <td>Unprovoked</td>\n",
       "      <td>SOUTH AFRICA</td>\n",
       "      <td>M</td>\n",
       "      <td>N</td>\n",
       "    </tr>\n",
       "    <tr>\n",
       "      <th>3073</th>\n",
       "      <td>09-Jan-1994</td>\n",
       "      <td>1994.0</td>\n",
       "      <td>Unprovoked</td>\n",
       "      <td>AUSTRALIA</td>\n",
       "      <td>M</td>\n",
       "      <td>N</td>\n",
       "    </tr>\n",
       "    <tr>\n",
       "      <th>3074</th>\n",
       "      <td>03-Jan-1994</td>\n",
       "      <td>1994.0</td>\n",
       "      <td>Unprovoked</td>\n",
       "      <td>SOUTH AFRICA</td>\n",
       "      <td>M</td>\n",
       "      <td>N</td>\n",
       "    </tr>\n",
       "    <tr>\n",
       "      <th>3075</th>\n",
       "      <td>Last incident of 1994 in Hong Kong</td>\n",
       "      <td>1994.0</td>\n",
       "      <td>Unprovoked</td>\n",
       "      <td>HONG KONG</td>\n",
       "      <td>F</td>\n",
       "      <td>N</td>\n",
       "    </tr>\n",
       "    <tr>\n",
       "      <th>3076</th>\n",
       "      <td>1994</td>\n",
       "      <td>1994.0</td>\n",
       "      <td>Unprovoked</td>\n",
       "      <td>USA</td>\n",
       "      <td>M</td>\n",
       "      <td>N</td>\n",
       "    </tr>\n",
       "  </tbody>\n",
       "</table>\n",
       "<p>2733 rows × 6 columns</p>\n",
       "</div>"
      ],
      "text/plain": [
       "                                    date    year        type       country  \\\n",
       "1                            04 Mar 2024  2024.0  Unprovoked           USA   \n",
       "2                            02 Mar-2024  2024.0  Unprovoked           USA   \n",
       "3                            25 Feb-2024  2024.0  Unprovoked     AUSTRALIA   \n",
       "4                            14 Feb-2024  2024.0  Unprovoked         INDIA   \n",
       "5                            04-Feb-2024  2024.0    Provoked      TRINIDAD   \n",
       "...                                  ...     ...         ...           ...   \n",
       "3071                         30-Jan-1994  1994.0  Unprovoked  SOUTH AFRICA   \n",
       "3073                         09-Jan-1994  1994.0  Unprovoked     AUSTRALIA   \n",
       "3074                         03-Jan-1994  1994.0  Unprovoked  SOUTH AFRICA   \n",
       "3075  Last incident of 1994 in Hong Kong  1994.0  Unprovoked     HONG KONG   \n",
       "3076                                1994  1994.0  Unprovoked           USA   \n",
       "\n",
       "     sex fatal attack: yes/no  \n",
       "1      M                    N  \n",
       "2      F                    N  \n",
       "3      F                    N  \n",
       "4      M                    N  \n",
       "5      M                    N  \n",
       "...   ..                  ...  \n",
       "3071   M                    N  \n",
       "3073   M                    N  \n",
       "3074   M                    N  \n",
       "3075   F                    N  \n",
       "3076   M                    N  \n",
       "\n",
       "[2733 rows x 6 columns]"
      ]
     },
     "execution_count": 50,
     "metadata": {},
     "output_type": "execute_result"
    }
   ],
   "source": [
    "# Eliminar filas con datos nulos en cualquier columna\n",
    "df_cleaned_all = df.dropna()\n",
    "\n",
    "# Mostrar el DataFrame después de eliminar filas con nulos en cualquier columna\n",
    "print(\"\\nDataFrame después de eliminar filas con datos nulos en cualquier columna:\")\n",
    "df_cleaned_all"
   ]
  },
  {
   "cell_type": "markdown",
   "id": "a22efa77",
   "metadata": {},
   "source": [
    "### 7. Corrección de Valores en la Columna 'sex'"
   ]
  },
  {
   "cell_type": "code",
   "execution_count": 51,
   "id": "72832dda",
   "metadata": {},
   "outputs": [
    {
     "name": "stdout",
     "output_type": "stream",
     "text": [
      "['F' 'M' nan ' M' 'M ' 'lli']\n"
     ]
    }
   ],
   "source": [
    "valores_unicos = df['sex'].unique()\n",
    "\n",
    "print(valores_unicos)"
   ]
  },
  {
   "cell_type": "code",
   "execution_count": 52,
   "id": "4c876559",
   "metadata": {},
   "outputs": [
    {
     "name": "stdout",
     "output_type": "stream",
     "text": [
      "Cantidad de NaN: 150\n",
      "Cantidad de 'lli': 1\n"
     ]
    }
   ],
   "source": [
    "# Contar valores NaN\n",
    "cantidad_nan = df['sex'].isna().sum()\n",
    "\n",
    "# Contar apariciones del valor 'lli'\n",
    "cantidad_lli = (df['sex'] == 'lli').sum()\n",
    "\n",
    "print(f\"Cantidad de NaN: {cantidad_nan}\")\n",
    "print(f\"Cantidad de 'lli': {cantidad_lli}\")"
   ]
  },
  {
   "cell_type": "code",
   "execution_count": 53,
   "id": "a68db1dd",
   "metadata": {},
   "outputs": [
    {
     "name": "stdout",
     "output_type": "stream",
     "text": [
      "Conteo de cada valor en la columna 'sex':\n",
      "sex\n",
      "M    2394\n",
      "F     530\n",
      "Name: count, dtype: int64\n"
     ]
    }
   ],
   "source": [
    "import numpy as np\n",
    "\n",
    "# Primero, eliminamos espacios en blanco en los valores\n",
    "df['sex'] = df['sex'].str.strip()\n",
    "\n",
    "# Reemplazar valores no válidos como 'lli' con NaN\n",
    "df['sex'] = df['sex'].replace('lli', np.nan)\n",
    "\n",
    "# Eliminar filas donde 'sex' es NaN (si no quieres considerar estos datos)\n",
    "df = df.dropna(subset=['sex'])\n",
    "\n",
    "# Contar ocurrencias de cada valor en la columna 'sex'\n",
    "value_counts = df['sex'].value_counts()\n",
    "\n",
    "# Mostrar conteo de valores específicos\n",
    "print(\"Conteo de cada valor en la columna 'sex':\")\n",
    "print(value_counts)"
   ]
  },
  {
   "cell_type": "code",
   "execution_count": 54,
   "id": "d2238978",
   "metadata": {},
   "outputs": [],
   "source": [
    "df['year'] = df['year'].astype(int)"
   ]
  },
  {
   "cell_type": "markdown",
   "id": "7b480e72",
   "metadata": {},
   "source": [
    "### 8. Análisis y Visualización de Datos"
   ]
  },
  {
   "cell_type": "code",
   "execution_count": 55,
   "id": "d7f3a76c",
   "metadata": {},
   "outputs": [
    {
     "name": "stdout",
     "output_type": "stream",
     "text": [
      "Número total de ataques por genero:\n",
      "sex\n",
      "M    2131\n",
      "F     477\n",
      "Name: count, dtype: int64\n",
      "\n",
      "Proporción de ataques por genero:\n",
      "sex\n",
      "M    0.817101\n",
      "F    0.182899\n",
      "Name: count, dtype: float64\n"
     ]
    },
    {
     "data": {
      "image/png": "[encoded data removed]",
      "text/plain": [
       "<Figure size 1000x600 with 1 Axes>"
      ]
     },
     "metadata": {},
     "output_type": "display_data"
    },
    {
     "data": {
      "image/png": "[encoded data removed]",
      "text/plain": [
       "<Figure size 800x800 with 1 Axes>"
      ]
     },
     "metadata": {},
     "output_type": "display_data"
    }
   ],
   "source": [
    "import seaborn as sns\n",
    "import matplotlib.pyplot as plt\n",
    "\n",
    "# Filtrar los ataques válidos (Unprovoked o Provoked)\n",
    "valid_attacks = df[df['type'].isin(['Unprovoked', 'Provoked'])]\n",
    "\n",
    "# Contar ataques por genero\n",
    "attack_counts_by_sex = valid_attacks['sex'].value_counts()\n",
    "\n",
    "# Mostrar resultados\n",
    "print(\"Número total de ataques por genero:\")\n",
    "print(attack_counts_by_sex)\n",
    "\n",
    "# Verificar la proporción de ataques por genero\n",
    "total_attacks = attack_counts_by_sex.sum()\n",
    "attack_proportions = attack_counts_by_sex / total_attacks\n",
    "\n",
    "print(\"\\nProporción de ataques por genero:\")\n",
    "print(attack_proportions)\n",
    "\n",
    "# Convertir los conteos a un DataFrame para visualización\n",
    "attack_counts_df = attack_counts_by_sex.reset_index()\n",
    "attack_counts_df.columns = ['sex', 'count']\n",
    "\n",
    "# Gráfico de barras con Seaborn (sin advertencia)\n",
    "plt.figure(figsize=(10, 6))\n",
    "sns.barplot(x='sex', y='count', data=attack_counts_df, palette='viridis', hue='sex', dodge=False)\n",
    "plt.title('Número total de ataques por genero')\n",
    "plt.xlabel('Genero')\n",
    "plt.ylabel('Número de ataques')\n",
    "plt.show()\n",
    "\n",
    "# Gráfico de pastel con Matplotlib para proporciones\n",
    "plt.figure(figsize=(8, 8))\n",
    "plt.pie(attack_proportions, labels=attack_proportions.index, autopct='%1.1f%%', colors=sns.color_palette('viridis', n_colors=len(attack_proportions)))\n",
    "plt.title('Proporción de ataques por genero')\n",
    "plt.show()\n"
   ]
  },
  {
   "cell_type": "code",
   "execution_count": 56,
   "id": "b0ba8231",
   "metadata": {},
   "outputs": [
    {
     "name": "stdout",
     "output_type": "stream",
     "text": [
      "Número de ataques por año:\n",
      "year\n",
      "1994     49\n",
      "1995     72\n",
      "1996     53\n",
      "1997     53\n",
      "1998     61\n",
      "1999     62\n",
      "2000     86\n",
      "2001     84\n",
      "2002     82\n",
      "2003     87\n",
      "2004     83\n",
      "2005     93\n",
      "2006     98\n",
      "2007    108\n",
      "2008    116\n",
      "2009    115\n",
      "2010    101\n",
      "2011    123\n",
      "2012    110\n",
      "2013    121\n",
      "2014    116\n",
      "2015    141\n",
      "2016    127\n",
      "2017    134\n",
      "2018    124\n",
      "2019    111\n",
      "2020     96\n",
      "2021    107\n",
      "2022     95\n",
      "2023    106\n",
      "2024     10\n",
      "Name: count, dtype: int64\n"
     ]
    },
    {
     "data": {
      "image/png": "[encoded data removed]",
      "text/plain": [
       "<Figure size 1200x600 with 1 Axes>"
      ]
     },
     "metadata": {},
     "output_type": "display_data"
    }
   ],
   "source": [
    "\n",
    "import pandas as pd\n",
    "import seaborn as sns\n",
    "import matplotlib.pyplot as plt\n",
    "\n",
    "# Contar ataques por año\n",
    "attacks_by_year = df['year'].value_counts().sort_index()\n",
    "\n",
    "# Mostrar resultados\n",
    "print(\"Número de ataques por año:\")\n",
    "print(attacks_by_year)\n",
    "\n",
    "# Convertir los conteos a un DataFrame para visualización\n",
    "attacks_by_year_df = attacks_by_year.reset_index()\n",
    "attacks_by_year_df.columns = ['Year', 'Count']\n",
    "\n",
    "# Gráfico de líneas con Seaborn para ataques por año\n",
    "plt.figure(figsize=(12, 6))\n",
    "sns.lineplot(x='Year', y='Count', data=attacks_by_year_df, marker='o')\n",
    "plt.title('Número de ataques por año')\n",
    "plt.xlabel('Año')\n",
    "plt.ylabel('Número de ataques')\n",
    "plt.grid(True)\n",
    "plt.xticks(rotation=45)  # Rotea las etiquetas del eje x para mejorar la legibilidad\n",
    "plt.tight_layout()  # Ajusta el diseño para que no se corten las etiquetas\n",
    "plt.show()"
   ]
  },
  {
   "cell_type": "code",
   "execution_count": 57,
   "id": "a78b352f",
   "metadata": {},
   "outputs": [
    {
     "name": "stdout",
     "output_type": "stream",
     "text": [
      "Número de ataques fatales por genero:\n",
      "sex\n",
      "M    237\n",
      "F     38\n",
      "Name: count, dtype: int64\n"
     ]
    },
    {
     "data": {
      "image/png": "[encoded data removed]",
      "text/plain": [
       "<Figure size 1000x600 with 1 Axes>"
      ]
     },
     "metadata": {},
     "output_type": "display_data"
    }
   ],
   "source": [
    "import pandas as pd\n",
    "import seaborn as sns\n",
    "import matplotlib.pyplot as plt\n",
    "\n",
    "# Supongamos que tu DataFrame se llama df\n",
    "\n",
    "# Estandariza los valores en la columna 'fatal attack: yes/no'\n",
    "df['fatal attack: yes/no'] = df['fatal attack: yes/no'].str.upper().map({'Y': 'Yes', 'N': 'No'})\n",
    "\n",
    "# Filtra el DataFrame para conservar solo las filas con ataques fatales\n",
    "fatal_attacks = df[df['fatal attack: yes/no'] == 'Yes']\n",
    "\n",
    "# Cuenta los ataques fatales por sexo\n",
    "fatal_attacks_by_sex = fatal_attacks['sex'].value_counts()\n",
    "\n",
    "# Convertir los conteos a un DataFrame para visualización\n",
    "fatal_attacks_by_sex_df = fatal_attacks_by_sex.reset_index()\n",
    "fatal_attacks_by_sex_df.columns = ['sex', 'count']\n",
    "\n",
    "# Mostrar el conteo de ataques fatales por sexo\n",
    "print(\"Número de ataques fatales por genero:\")\n",
    "print(fatal_attacks_by_sex)\n",
    "\n",
    "# Gráfico de barras con Seaborn para ataques fatales por sexo\n",
    "plt.figure(figsize=(10, 6))\n",
    "sns.barplot(x='sex', y='count', data=fatal_attacks_by_sex_df, errorbar=None)  # Eliminado el parámetro palette\n",
    "plt.title('Número de ataques fatales por genero')\n",
    "plt.xlabel('Genero')\n",
    "plt.ylabel('Número de ataques fatales')\n",
    "plt.show()\n"
   ]
  }
 ],
 "metadata": {
  "kernelspec": {
   "display_name": "base",
   "language": "python",
   "name": "python3"
  },
  "language_info": {
   "codemirror_mode": {
    "name": "ipython",
    "version": 3
   },
   "file_extension": ".py",
   "mimetype": "text/x-python",
   "name": "python",
   "nbconvert_exporter": "python",
   "pygments_lexer": "ipython3",
   "version": "3.12.4"
  }
 },
 "nbformat": 4,
 "nbformat_minor": 5
}
